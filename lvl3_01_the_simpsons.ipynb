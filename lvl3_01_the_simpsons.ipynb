{
  "metadata": {
    "kernelspec": {
      "language": "python",
      "display_name": "Python 3",
      "name": "python3"
    },
    "language_info": {
      "name": "python",
      "version": "3.10.14",
      "mimetype": "text/x-python",
      "codemirror_mode": {
        "name": "ipython",
        "version": 3
      },
      "pygments_lexer": "ipython3",
      "nbconvert_exporter": "python",
      "file_extension": ".py"
    },
    "kaggle": {
      "accelerator": "none",
      "dataSources": [
        {
          "sourceId": 20320,
          "databundleVersionId": 1134053,
          "sourceType": "competition"
        }
      ],
      "dockerImageVersionId": 30786,
      "isInternetEnabled": true,
      "language": "python",
      "sourceType": "notebook",
      "isGpuEnabled": false
    },
    "colab": {
      "provenance": []
    }
  },
  "nbformat_minor": 0,
  "nbformat": 4,
  "cells": [
    {
      "cell_type": "markdown",
      "source": [
        "# Imports"
      ],
      "metadata": {
        "id": "Mc-j3t4BFziV"
      }
    },
    {
      "cell_type": "code",
      "source": [
        "import numpy as np\n",
        "import pandas as pd\n",
        "import torch\n",
        "import torch.nn as nn\n",
        "import torch.nn.functional as F\n",
        "\n",
        "from collections import Counter\n",
        "from matplotlib import pyplot as plt\n",
        "from pathlib import Path\n",
        "from PIL import Image\n",
        "from sklearn.metrics import f1_score\n",
        "\n",
        "from torchvision import datasets, transforms\n",
        "from torch.utils.data import DataLoader, Subset, Dataset\n",
        "from sklearn.model_selection import train_test_split\n",
        "from torch.optim.lr_scheduler import StepLR\n",
        "\n",
        "%matplotlib inline"
      ],
      "metadata": {
        "execution": {
          "iopub.status.busy": "2024-11-07T17:29:29.943186Z",
          "iopub.execute_input": "2024-11-07T17:29:29.943623Z",
          "iopub.status.idle": "2024-11-07T17:29:29.953770Z",
          "shell.execute_reply.started": "2024-11-07T17:29:29.943579Z",
          "shell.execute_reply": "2024-11-07T17:29:29.952823Z"
        },
        "trusted": true,
        "id": "scpgtMNAFziX"
      },
      "execution_count": null,
      "outputs": []
    },
    {
      "cell_type": "markdown",
      "source": [
        "# EDA"
      ],
      "metadata": {
        "id": "EZhL6gBmFziX"
      }
    },
    {
      "cell_type": "code",
      "source": [
        "data_dir = '/kaggle/input/journey-springfield/'\n",
        "train_path = Path(data_dir + 'train/simpsons_dataset')\n",
        "test_path = Path(data_dir + 'testset/testset')"
      ],
      "metadata": {
        "execution": {
          "iopub.status.busy": "2024-11-07T14:52:35.269728Z",
          "iopub.execute_input": "2024-11-07T14:52:35.270262Z",
          "iopub.status.idle": "2024-11-07T14:52:35.275059Z",
          "shell.execute_reply.started": "2024-11-07T14:52:35.270215Z",
          "shell.execute_reply": "2024-11-07T14:52:35.274105Z"
        },
        "trusted": true,
        "id": "WIa-lUKBFziY"
      },
      "execution_count": null,
      "outputs": []
    },
    {
      "cell_type": "code",
      "source": [
        "train_files = sorted(list(train_path.rglob('*.jpg')))\n",
        "train_labels = [path.parent.name for path in train_files]\n",
        "test_files = sorted(list(test_path.rglob('*.jpg')))\n",
        "\n",
        "data = pd.Series(train_labels).value_counts().sort_values().to_frame(\"count\")\n",
        "data"
      ],
      "metadata": {
        "execution": {
          "iopub.status.busy": "2024-11-07T14:52:35.276599Z",
          "iopub.execute_input": "2024-11-07T14:52:35.276886Z",
          "iopub.status.idle": "2024-11-07T14:52:44.541417Z",
          "shell.execute_reply.started": "2024-11-07T14:52:35.276855Z",
          "shell.execute_reply": "2024-11-07T14:52:44.540445Z"
        },
        "trusted": true,
        "id": "r_Hk_6OkFziY",
        "outputId": "0e9764a3-1122-48da-b26c-918892a0f9a8"
      },
      "execution_count": null,
      "outputs": [
        {
          "execution_count": 3,
          "output_type": "execute_result",
          "data": {
            "text/plain": "                          count\nlionel_hutz                   3\ndisco_stu                     8\ntroy_mcclure                  8\nmiss_hoover                  17\nfat_tony                     27\ngil                          27\notto_mann                    32\nsideshow_mel                 40\nagnes_skinner                42\nrainier_wolfcastle           45\ncletus_spuckler              47\nsnake_jailbird               55\nprofessor_john_frink         65\nmartin_prince                71\npatty_bouvier                72\nralph_wiggum                 89\ncarl_carlson                 98\nselma_bouvier               103\nbarney_gumble               106\ngroundskeeper_willie        121\nmaggie_simpson              128\nwaylon_smithers             181\nmayor_quimby                246\nlenny_leonard               310\nnelson_muntz                358\nedna_krabappel              457\ncomic_book_guy              469\nkent_brockman               498\napu_nahasapeemapetilon      623\nsideshow_bob                877\nabraham_grampa_simpson      913\nchief_wiggum                986\nmilhouse_van_houten        1079\ncharles_montgomery_burns   1193\nprincipal_skinner          1194\nkrusty_the_clown           1206\nmarge_simpson              1291\nbart_simpson               1342\nlisa_simpson               1354\nmoe_szyslak                1452\nned_flanders               1454\nhomer_simpson              2246",
            "text/html": "<div>\n<style scoped>\n    .dataframe tbody tr th:only-of-type {\n        vertical-align: middle;\n    }\n\n    .dataframe tbody tr th {\n        vertical-align: top;\n    }\n\n    .dataframe thead th {\n        text-align: right;\n    }\n</style>\n<table border=\"1\" class=\"dataframe\">\n  <thead>\n    <tr style=\"text-align: right;\">\n      <th></th>\n      <th>count</th>\n    </tr>\n  </thead>\n  <tbody>\n    <tr>\n      <th>lionel_hutz</th>\n      <td>3</td>\n    </tr>\n    <tr>\n      <th>disco_stu</th>\n      <td>8</td>\n    </tr>\n    <tr>\n      <th>troy_mcclure</th>\n      <td>8</td>\n    </tr>\n    <tr>\n      <th>miss_hoover</th>\n      <td>17</td>\n    </tr>\n    <tr>\n      <th>fat_tony</th>\n      <td>27</td>\n    </tr>\n    <tr>\n      <th>gil</th>\n      <td>27</td>\n    </tr>\n    <tr>\n      <th>otto_mann</th>\n      <td>32</td>\n    </tr>\n    <tr>\n      <th>sideshow_mel</th>\n      <td>40</td>\n    </tr>\n    <tr>\n      <th>agnes_skinner</th>\n      <td>42</td>\n    </tr>\n    <tr>\n      <th>rainier_wolfcastle</th>\n      <td>45</td>\n    </tr>\n    <tr>\n      <th>cletus_spuckler</th>\n      <td>47</td>\n    </tr>\n    <tr>\n      <th>snake_jailbird</th>\n      <td>55</td>\n    </tr>\n    <tr>\n      <th>professor_john_frink</th>\n      <td>65</td>\n    </tr>\n    <tr>\n      <th>martin_prince</th>\n      <td>71</td>\n    </tr>\n    <tr>\n      <th>patty_bouvier</th>\n      <td>72</td>\n    </tr>\n    <tr>\n      <th>ralph_wiggum</th>\n      <td>89</td>\n    </tr>\n    <tr>\n      <th>carl_carlson</th>\n      <td>98</td>\n    </tr>\n    <tr>\n      <th>selma_bouvier</th>\n      <td>103</td>\n    </tr>\n    <tr>\n      <th>barney_gumble</th>\n      <td>106</td>\n    </tr>\n    <tr>\n      <th>groundskeeper_willie</th>\n      <td>121</td>\n    </tr>\n    <tr>\n      <th>maggie_simpson</th>\n      <td>128</td>\n    </tr>\n    <tr>\n      <th>waylon_smithers</th>\n      <td>181</td>\n    </tr>\n    <tr>\n      <th>mayor_quimby</th>\n      <td>246</td>\n    </tr>\n    <tr>\n      <th>lenny_leonard</th>\n      <td>310</td>\n    </tr>\n    <tr>\n      <th>nelson_muntz</th>\n      <td>358</td>\n    </tr>\n    <tr>\n      <th>edna_krabappel</th>\n      <td>457</td>\n    </tr>\n    <tr>\n      <th>comic_book_guy</th>\n      <td>469</td>\n    </tr>\n    <tr>\n      <th>kent_brockman</th>\n      <td>498</td>\n    </tr>\n    <tr>\n      <th>apu_nahasapeemapetilon</th>\n      <td>623</td>\n    </tr>\n    <tr>\n      <th>sideshow_bob</th>\n      <td>877</td>\n    </tr>\n    <tr>\n      <th>abraham_grampa_simpson</th>\n      <td>913</td>\n    </tr>\n    <tr>\n      <th>chief_wiggum</th>\n      <td>986</td>\n    </tr>\n    <tr>\n      <th>milhouse_van_houten</th>\n      <td>1079</td>\n    </tr>\n    <tr>\n      <th>charles_montgomery_burns</th>\n      <td>1193</td>\n    </tr>\n    <tr>\n      <th>principal_skinner</th>\n      <td>1194</td>\n    </tr>\n    <tr>\n      <th>krusty_the_clown</th>\n      <td>1206</td>\n    </tr>\n    <tr>\n      <th>marge_simpson</th>\n      <td>1291</td>\n    </tr>\n    <tr>\n      <th>bart_simpson</th>\n      <td>1342</td>\n    </tr>\n    <tr>\n      <th>lisa_simpson</th>\n      <td>1354</td>\n    </tr>\n    <tr>\n      <th>moe_szyslak</th>\n      <td>1452</td>\n    </tr>\n    <tr>\n      <th>ned_flanders</th>\n      <td>1454</td>\n    </tr>\n    <tr>\n      <th>homer_simpson</th>\n      <td>2246</td>\n    </tr>\n  </tbody>\n</table>\n</div>"
          },
          "metadata": {}
        }
      ]
    },
    {
      "cell_type": "markdown",
      "source": [
        "Виден сильный дисбаланс классов. Нужно будет использовать аугментацию для выравнивания распределения"
      ],
      "metadata": {
        "id": "ZqeSPmNiFziY"
      }
    },
    {
      "cell_type": "markdown",
      "source": [
        "# Augmentation\n"
      ],
      "metadata": {
        "id": "ErjrkyZeFziY"
      }
    },
    {
      "cell_type": "code",
      "source": [
        "dataset = datasets.ImageFolder(root=train_path)\n",
        "\n",
        "train_indices, val_indices = train_test_split(\n",
        "    range(len(dataset)),\n",
        "    test_size=0.2,\n",
        "    stratify=dataset.targets,\n",
        "    random_state=42\n",
        ")"
      ],
      "metadata": {
        "execution": {
          "iopub.status.busy": "2024-11-07T17:15:31.192687Z",
          "iopub.execute_input": "2024-11-07T17:15:31.193037Z",
          "iopub.status.idle": "2024-11-07T17:15:31.348610Z",
          "shell.execute_reply.started": "2024-11-07T17:15:31.193004Z",
          "shell.execute_reply": "2024-11-07T17:15:31.347845Z"
        },
        "trusted": true,
        "id": "1DuZNVLCFziZ"
      },
      "execution_count": null,
      "outputs": []
    },
    {
      "cell_type": "code",
      "source": [
        "train_targets = [dataset.targets[i] for i in train_indices]\n",
        "class_counts = Counter(train_targets)\n",
        "max_count = max(class_counts.values())\n",
        "\n",
        "indices_per_class = {cls: [] for cls in class_counts.keys()}\n",
        "for idx in train_indices:\n",
        "    label = dataset.targets[idx]\n",
        "    indices_per_class[label].append(idx)\n",
        "\n",
        "balanced_train_indices = []\n",
        "for cls, indices in indices_per_class.items():\n",
        "    balanced_train_indices.extend(indices)\n",
        "    num_to_add = max_count - len(indices)\n",
        "    if num_to_add > 0:\n",
        "        additional_indices = np.random.choice(indices, num_to_add, replace=True)\n",
        "        balanced_train_indices.extend(additional_indices)\n"
      ],
      "metadata": {
        "execution": {
          "iopub.status.busy": "2024-11-07T17:15:35.863491Z",
          "iopub.execute_input": "2024-11-07T17:15:35.863890Z",
          "iopub.status.idle": "2024-11-07T17:15:35.892179Z",
          "shell.execute_reply.started": "2024-11-07T17:15:35.863850Z",
          "shell.execute_reply": "2024-11-07T17:15:35.891351Z"
        },
        "trusted": true,
        "id": "Upp6nzgiFziZ"
      },
      "execution_count": null,
      "outputs": []
    },
    {
      "cell_type": "code",
      "source": [
        "train_transforms = transforms.Compose([\n",
        "    transforms.RandomChoice([\n",
        "        transforms.Compose([\n",
        "            transforms.Resize(size=300),\n",
        "            transforms.CenterCrop(size=300),\n",
        "            transforms.RandomCrop(250)\n",
        "        ]),\n",
        "        transforms.RandomRotation(degrees=(-25, 25)),\n",
        "        transforms.RandomHorizontalFlip(p=1),\n",
        "    ]),\n",
        "    transforms.Resize(size=(224, 224)),\n",
        "    transforms.ToTensor(),\n",
        "    transforms.Normalize([0.485, 0.456, 0.406], [0.229, 0.224, 0.225]),\n",
        "])\n",
        "\n",
        "val_transforms = transforms.Compose([\n",
        "    transforms.Resize(size=(224, 224)),\n",
        "    transforms.ToTensor(),\n",
        "    transforms.Normalize([0.485, 0.456, 0.406], [0.229, 0.224, 0.225]),\n",
        "])\n"
      ],
      "metadata": {
        "execution": {
          "iopub.status.busy": "2024-11-07T17:15:39.909819Z",
          "iopub.execute_input": "2024-11-07T17:15:39.910597Z",
          "iopub.status.idle": "2024-11-07T17:15:39.918203Z",
          "shell.execute_reply.started": "2024-11-07T17:15:39.910555Z",
          "shell.execute_reply": "2024-11-07T17:15:39.917194Z"
        },
        "trusted": true,
        "id": "dmryOzpoFziZ"
      },
      "execution_count": null,
      "outputs": []
    },
    {
      "cell_type": "code",
      "source": [
        "class CustomDataset(Dataset):\n",
        "    def __init__(self, dataset, indices, transform=None):\n",
        "        self.dataset = dataset\n",
        "        self.indices = indices\n",
        "        self.transform = transform\n",
        "\n",
        "    def __len__(self):\n",
        "        return len(self.indices)\n",
        "\n",
        "    def __getitem__(self, idx):\n",
        "        img, label = self.dataset[self.indices[idx]]\n",
        "        if self.transform:\n",
        "            img = self.transform(img)\n",
        "        return img, label\n",
        "\n",
        "\n",
        "train_dataset = CustomDataset(dataset, balanced_train_indices, transform=train_transforms)\n",
        "val_dataset = CustomDataset(dataset, val_indices, transform=val_transforms)\n",
        "train_loader = DataLoader(train_dataset, batch_size=128, shuffle=True, num_workers=4, pin_memory=True)\n",
        "val_loader = DataLoader(val_dataset, batch_size=128, shuffle=False, num_workers=4, pin_memory=True)"
      ],
      "metadata": {
        "execution": {
          "iopub.status.busy": "2024-11-07T17:15:46.044906Z",
          "iopub.execute_input": "2024-11-07T17:15:46.045265Z",
          "iopub.status.idle": "2024-11-07T17:15:46.053891Z",
          "shell.execute_reply.started": "2024-11-07T17:15:46.045228Z",
          "shell.execute_reply": "2024-11-07T17:15:46.052948Z"
        },
        "trusted": true,
        "id": "XaTXRY33FziZ"
      },
      "execution_count": null,
      "outputs": []
    },
    {
      "cell_type": "code",
      "source": [
        "if torch.cuda.is_available():\n",
        "    print('CUDA is available!  Training on GPU ...')\n",
        "    device = 'cuda:0'\n",
        "else:\n",
        "    print('CUDA is not available.  Training on CPU ...')\n",
        "    device = 'cpu'"
      ],
      "metadata": {
        "execution": {
          "iopub.status.busy": "2024-11-07T17:16:43.288975Z",
          "iopub.execute_input": "2024-11-07T17:16:43.289623Z",
          "iopub.status.idle": "2024-11-07T17:16:43.294833Z",
          "shell.execute_reply.started": "2024-11-07T17:16:43.289580Z",
          "shell.execute_reply": "2024-11-07T17:16:43.293960Z"
        },
        "trusted": true,
        "id": "VzpA9ybMFziZ",
        "outputId": "ee512811-c503-4b75-da54-cbebf4562d1d"
      },
      "execution_count": null,
      "outputs": [
        {
          "name": "stdout",
          "text": "CUDA is available!  Training on GPU ...\n",
          "output_type": "stream"
        }
      ]
    },
    {
      "cell_type": "markdown",
      "source": [
        "# Create Model"
      ],
      "metadata": {
        "id": "WFMW_cXkFzia"
      }
    },
    {
      "cell_type": "code",
      "source": [
        "class SimpsonClassifier(nn.Module):\n",
        "    def __init__(self, num_classes):\n",
        "        super(SimpsonClassifier, self).__init__()\n",
        "\n",
        "        self.conv1 = nn.Sequential(\n",
        "            nn.Conv2d(3, 11, kernel_size=3),\n",
        "            nn.BatchNorm2d(11),\n",
        "            nn.ReLU(),\n",
        "            nn.MaxPool2d(kernel_size=2, stride=2)\n",
        "        )\n",
        "\n",
        "        self.conv2 = nn.Sequential(\n",
        "            nn.Conv2d(11, 15, kernel_size=3),\n",
        "            nn.BatchNorm2d(15),\n",
        "            nn.ReLU(),\n",
        "            nn.MaxPool2d(kernel_size=2, stride=2)\n",
        "        )\n",
        "\n",
        "        self.conv3 = nn.Sequential(\n",
        "            nn.Conv2d(15, 32, kernel_size=3),\n",
        "            nn.BatchNorm2d(32),\n",
        "            nn.ReLU(),\n",
        "            nn.MaxPool2d(kernel_size=2, stride=2)\n",
        "        )\n",
        "\n",
        "        self.conv4 = nn.Sequential(\n",
        "            nn.Conv2d(32, 10, kernel_size=3),\n",
        "            nn.BatchNorm2d(10),\n",
        "            nn.ReLU(),\n",
        "            nn.MaxPool2d(kernel_size=2, stride=2)\n",
        "        )\n",
        "\n",
        "        self.flatten = nn.Flatten()\n",
        "        self.fc1 = nn.Linear(10 * 12 * 12, 512)\n",
        "        self.fc2 = nn.Linear(512, 128)\n",
        "        self.fc3 = nn.Linear(128, num_classes)\n",
        "        self.relu = nn.ReLU()\n",
        "\n",
        "    def forward(self, x):\n",
        "        out = self.conv1(x)\n",
        "        out = self.conv2(out)\n",
        "        out = self.conv3(out)\n",
        "        out = self.conv4(out)\n",
        "\n",
        "        out = self.flatten(out)\n",
        "        out = self.fc1(out)\n",
        "        out = self.relu(out)\n",
        "        out = self.fc2(out)\n",
        "        out = self.relu(out)\n",
        "        out = self.fc3(out)\n",
        "        return out"
      ],
      "metadata": {
        "execution": {
          "iopub.status.busy": "2024-11-07T17:16:45.367589Z",
          "iopub.execute_input": "2024-11-07T17:16:45.367996Z",
          "iopub.status.idle": "2024-11-07T17:16:45.382207Z",
          "shell.execute_reply.started": "2024-11-07T17:16:45.367956Z",
          "shell.execute_reply": "2024-11-07T17:16:45.381258Z"
        },
        "trusted": true,
        "id": "f66FNfZiFzia"
      },
      "execution_count": null,
      "outputs": []
    },
    {
      "cell_type": "code",
      "source": [
        "n_classes = len(np.unique(train_labels))\n",
        "model = SimpsonClassifier(n_classes).to(device)\n",
        "\n",
        "loss = torch.nn.CrossEntropyLoss()"
      ],
      "metadata": {
        "execution": {
          "iopub.status.busy": "2024-11-07T17:16:48.341575Z",
          "iopub.execute_input": "2024-11-07T17:16:48.342222Z",
          "iopub.status.idle": "2024-11-07T17:16:48.369140Z",
          "shell.execute_reply.started": "2024-11-07T17:16:48.342179Z",
          "shell.execute_reply": "2024-11-07T17:16:48.368206Z"
        },
        "trusted": true,
        "id": "8SHzBZG8Fzia"
      },
      "execution_count": null,
      "outputs": []
    },
    {
      "cell_type": "markdown",
      "source": [
        "# Train & Test"
      ],
      "metadata": {
        "id": "TZvwa1JhFzia"
      }
    },
    {
      "cell_type": "code",
      "source": [
        "def fit(model, criterion, train_dataloader, valid_dataloader, max_epochs, lr=0.0003, device='cpu'):\n",
        "    model.to(device)\n",
        "    optimizer = torch.optim.Adam(model.parameters(), lr=lr)\n",
        "    scheduler = StepLR(optimizer, step_size=10, gamma=0.1)\n",
        "    loaders = {\"train\": train_dataloader, \"valid\": valid_dataloader}\n",
        "\n",
        "    metrics = {\"train\": {\"accuracy\": [], \"f1\": [], \"loss\": []},\n",
        "               \"valid\": {\"accuracy\": [], \"f1\": [], \"loss\": []}}\n",
        "\n",
        "    best_f1 = 0\n",
        "    patience = 5\n",
        "    trigger_times = 0\n",
        "\n",
        "    for epoch in range(max_epochs):\n",
        "        print(f\"Epoch {epoch+1}/{max_epochs}\")\n",
        "\n",
        "        for phase, dataloader in loaders.items():\n",
        "            if phase == \"train\":\n",
        "                model.train()\n",
        "            else:\n",
        "                model.eval()\n",
        "            epoch_correct = 0\n",
        "            epoch_all = 0\n",
        "            running_loss = 0.0\n",
        "            all_preds = []\n",
        "            all_labels = []\n",
        "\n",
        "            with tqdm(dataloader, unit=\"batch\") as tepoch:\n",
        "                tepoch.set_description(f\"{phase.capitalize()} Phase\")\n",
        "                for x_batch, y_batch in tepoch:\n",
        "                    x_batch = x_batch.to(device, non_blocking=True)\n",
        "                    y_batch = y_batch.to(device, non_blocking=True)\n",
        "\n",
        "                    optimizer.zero_grad()\n",
        "\n",
        "                    with torch.set_grad_enabled(phase == \"train\"):\n",
        "                        outp = model(x_batch)\n",
        "                        loss = criterion(outp, y_batch)\n",
        "\n",
        "                        if phase == \"train\":\n",
        "                            loss.backward()\n",
        "                            optimizer.step()\n",
        "\n",
        "                    preds = outp.argmax(dim=-1)\n",
        "                    all_preds.extend(preds.cpu().numpy())\n",
        "                    all_labels.extend(y_batch.cpu().numpy())\n",
        "\n",
        "                    correct = (preds == y_batch).sum().item()\n",
        "                    epoch_correct += correct\n",
        "                    epoch_all += y_batch.size(0)\n",
        "                    running_loss += loss.item() * x_batch.size(0)\n",
        "\n",
        "                    tepoch.set_postfix(loss=loss.item())\n",
        "\n",
        "            epoch_loss = running_loss / len(dataloader.dataset)\n",
        "            accuracy = epoch_correct / epoch_all\n",
        "            f1 = f1_score(all_labels, all_preds, average=\"weighted\")\n",
        "\n",
        "            metrics[phase][\"accuracy\"].append(accuracy)\n",
        "            metrics[phase][\"f1\"].append(f1)\n",
        "            metrics[phase][\"loss\"].append(epoch_loss)\n",
        "\n",
        "            print(f\"{phase.capitalize()} Phase - Loss: {epoch_loss:.4f}, Accuracy: {accuracy:.4f}, F1 Score: {f1:.4f}\")\n",
        "\n",
        "            if phase == \"valid\":\n",
        "                if f1 > best_f1:\n",
        "                    best_f1 = f1\n",
        "                    trigger_times = 0\n",
        "                    torch.save(model.state_dict(), 'best_model.pth')\n",
        "                else:\n",
        "                    trigger_times += 1\n",
        "                    if trigger_times >= patience:\n",
        "                        print('Early stopping!')\n",
        "                        return metrics\n",
        "        scheduler.step()\n",
        "    return metrics\n"
      ],
      "metadata": {
        "execution": {
          "iopub.status.busy": "2024-11-07T17:28:50.972082Z",
          "iopub.execute_input": "2024-11-07T17:28:50.972506Z",
          "iopub.status.idle": "2024-11-07T17:28:50.989856Z",
          "shell.execute_reply.started": "2024-11-07T17:28:50.972460Z",
          "shell.execute_reply": "2024-11-07T17:28:50.988837Z"
        },
        "trusted": true,
        "id": "zgnrEMHXFzia"
      },
      "execution_count": null,
      "outputs": []
    },
    {
      "cell_type": "code",
      "source": [
        "fit(model, loss, train_loader, val_loader, 50, device=device)"
      ],
      "metadata": {
        "execution": {
          "iopub.status.busy": "2024-11-07T17:29:40.715836Z",
          "iopub.execute_input": "2024-11-07T17:29:40.716264Z",
          "iopub.status.idle": "2024-11-07T18:56:05.177857Z",
          "shell.execute_reply.started": "2024-11-07T17:29:40.716224Z",
          "shell.execute_reply": "2024-11-07T18:56:05.176603Z"
        },
        "trusted": true,
        "colab": {
          "referenced_widgets": [
            "efad294ca5284fb0b0bf0ceea7d59a2b",
            "fb9e19a60156414aa0f3c194e5c4d218",
            "169776dda11f475da5242af31c0998d2",
            "c12ac1c1c1c74c0d8957b1d9b4f7146f",
            "ab64fbfb62ee4936b65f0a7b74d87b7c",
            "31d87dcd863045a381201987a7b6f6db",
            "bfd12c2754214e7a9b2df53c54e910a0",
            "a4947bb1809c41c0a2f80dec955a65d1",
            "64530f4945254ad88d3fed726dbe8e56",
            "df447209332d46cd82addc1576c67d19",
            "ce9f878ce7bb4cb1802efacbfd6c076f",
            "23844af210424d7fafafc3ac66d6eb23",
            "03ccf284021c47d4b4c720dc2de2a531",
            "67d8c5d1e81d44a9828c1da0d1ad588f",
            "df4b123525d84b9b89e62070e0988143",
            "0a12723ec9b44de0a0b00ba32e440343",
            "ae00211f990f42eaba229eb6640a239b",
            "a8c942dbe2e34bb7b8a4d9edf7ac3571",
            "dcc705c4f481446f8fed8af5d3089b57",
            "d744010dc00244bd9708a480b70b1188",
            "8fd8535000614773b449496e47ec872d",
            "91bf039faba94546a9eef4946ef8a722",
            "c84d241a06c94019821c05c84a72696d",
            "99d03be867db44d39094a84aa093a387",
            "64657548becb44bd96508971b4bb355c",
            "b4cba9bc6e594cfca9567e3e9a8fb864",
            "2206ad659c014aa5bab6ce154e8b811d",
            "0120bc30eca9426d96bd2ae9b8b5326b",
            "a4404bab25bf4c28a378f20c39c79710",
            "1735cf1c75ae4554bf8927512896b9e9",
            "d6714bd35e294cb69aaa387f72cea23d",
            "8578256df8ab4796a21c819c98dfcb2f",
            "81fc06e76695419bb158d11013370b6d",
            "f73a7f5e867b4e219438ec792ea760a1",
            "9cb04d0fe9c74fafaf4873e6d9cca79a",
            "85620276245d4995986b7925bf6a9a66",
            "67f6b00b7bff419c8adfd11d8b1798a2",
            "17bba82944184c7e96302059d8985127",
            "5c1b8d7166c84fb983760d3823ede2a1",
            "19978b3562bc4184956818b8a574da34",
            "c78f498f3ae64f209a9f7a8ca7104724",
            "d8e7dd0148f747d0a613c2f593d17bff",
            "9fe108aeb29543d88f7852755f17aa41",
            "33e49fa87051495c9129c3bd4b381c41",
            "d2a511bcfdd04d55b56c15ea984e6958",
            "073073fc95194ba3bfa24d5117501ac5",
            "38d649d62957480dac5c23b12b244108",
            "192ef86526384ee29084e6dfef981d9f",
            "12b7400ab34f402ea7960fcd1dc0a59e",
            "1d43efbd1733473687d4788f127d4751",
            "c655f1fcfc094227aad80ac06b54a0a7",
            "ac4e8e4db82046d8867c6a1c6fdb43fb",
            "3716de69e2f74e309f0b07d19da2ca96",
            "2df4ac895a79429fb0f3ba7711f37822"
          ]
        },
        "id": "QlQDy2oeFzia",
        "outputId": "3e55d3e5-e506-4584-fd71-240ad74cecd5"
      },
      "execution_count": null,
      "outputs": [
        {
          "name": "stdout",
          "text": "Epoch 1/50\n",
          "output_type": "stream"
        },
        {
          "output_type": "display_data",
          "data": {
            "text/plain": "  0%|          | 0/590 [00:00<?, ?batch/s]",
            "application/vnd.jupyter.widget-view+json": {
              "version_major": 2,
              "version_minor": 0,
              "model_id": "efad294ca5284fb0b0bf0ceea7d59a2b"
            }
          },
          "metadata": {}
        },
        {
          "name": "stdout",
          "text": "Train Phase - Loss: 0.5181, Accuracy: 0.8591, F1 Score: 0.8558\n",
          "output_type": "stream"
        },
        {
          "output_type": "display_data",
          "data": {
            "text/plain": "  0%|          | 0/33 [00:00<?, ?batch/s]",
            "application/vnd.jupyter.widget-view+json": {
              "version_major": 2,
              "version_minor": 0,
              "model_id": "fb9e19a60156414aa0f3c194e5c4d218"
            }
          },
          "metadata": {}
        },
        {
          "name": "stdout",
          "text": "Valid Phase - Loss: 1.1120, Accuracy: 0.6905, F1 Score: 0.6913\nEpoch 2/50\n",
          "output_type": "stream"
        },
        {
          "output_type": "display_data",
          "data": {
            "text/plain": "  0%|          | 0/590 [00:00<?, ?batch/s]",
            "application/vnd.jupyter.widget-view+json": {
              "version_major": 2,
              "version_minor": 0,
              "model_id": "169776dda11f475da5242af31c0998d2"
            }
          },
          "metadata": {}
        },
        {
          "name": "stdout",
          "text": "Train Phase - Loss: 0.4258, Accuracy: 0.8833, F1 Score: 0.8810\n",
          "output_type": "stream"
        },
        {
          "output_type": "display_data",
          "data": {
            "text/plain": "  0%|          | 0/33 [00:00<?, ?batch/s]",
            "application/vnd.jupyter.widget-view+json": {
              "version_major": 2,
              "version_minor": 0,
              "model_id": "c12ac1c1c1c74c0d8957b1d9b4f7146f"
            }
          },
          "metadata": {}
        },
        {
          "name": "stdout",
          "text": "Valid Phase - Loss: 1.0629, Accuracy: 0.7067, F1 Score: 0.7113\nEpoch 3/50\n",
          "output_type": "stream"
        },
        {
          "output_type": "display_data",
          "data": {
            "text/plain": "  0%|          | 0/590 [00:00<?, ?batch/s]",
            "application/vnd.jupyter.widget-view+json": {
              "version_major": 2,
              "version_minor": 0,
              "model_id": "ab64fbfb62ee4936b65f0a7b74d87b7c"
            }
          },
          "metadata": {}
        },
        {
          "name": "stdout",
          "text": "Train Phase - Loss: 0.3608, Accuracy: 0.9003, F1 Score: 0.8986\n",
          "output_type": "stream"
        },
        {
          "output_type": "display_data",
          "data": {
            "text/plain": "  0%|          | 0/33 [00:00<?, ?batch/s]",
            "application/vnd.jupyter.widget-view+json": {
              "version_major": 2,
              "version_minor": 0,
              "model_id": "31d87dcd863045a381201987a7b6f6db"
            }
          },
          "metadata": {}
        },
        {
          "name": "stdout",
          "text": "Valid Phase - Loss: 0.9607, Accuracy: 0.7399, F1 Score: 0.7413\nEpoch 4/50\n",
          "output_type": "stream"
        },
        {
          "output_type": "display_data",
          "data": {
            "text/plain": "  0%|          | 0/590 [00:00<?, ?batch/s]",
            "application/vnd.jupyter.widget-view+json": {
              "version_major": 2,
              "version_minor": 0,
              "model_id": "bfd12c2754214e7a9b2df53c54e910a0"
            }
          },
          "metadata": {}
        },
        {
          "name": "stdout",
          "text": "Train Phase - Loss: 0.3121, Accuracy: 0.9120, F1 Score: 0.9105\n",
          "output_type": "stream"
        },
        {
          "output_type": "display_data",
          "data": {
            "text/plain": "  0%|          | 0/33 [00:00<?, ?batch/s]",
            "application/vnd.jupyter.widget-view+json": {
              "version_major": 2,
              "version_minor": 0,
              "model_id": "a4947bb1809c41c0a2f80dec955a65d1"
            }
          },
          "metadata": {}
        },
        {
          "name": "stdout",
          "text": "Valid Phase - Loss: 0.9335, Accuracy: 0.7495, F1 Score: 0.7514\nEpoch 5/50\n",
          "output_type": "stream"
        },
        {
          "output_type": "display_data",
          "data": {
            "text/plain": "  0%|          | 0/590 [00:00<?, ?batch/s]",
            "application/vnd.jupyter.widget-view+json": {
              "version_major": 2,
              "version_minor": 0,
              "model_id": "64530f4945254ad88d3fed726dbe8e56"
            }
          },
          "metadata": {}
        },
        {
          "name": "stdout",
          "text": "Train Phase - Loss: 0.2787, Accuracy: 0.9219, F1 Score: 0.9208\n",
          "output_type": "stream"
        },
        {
          "output_type": "display_data",
          "data": {
            "text/plain": "  0%|          | 0/33 [00:00<?, ?batch/s]",
            "application/vnd.jupyter.widget-view+json": {
              "version_major": 2,
              "version_minor": 0,
              "model_id": "df447209332d46cd82addc1576c67d19"
            }
          },
          "metadata": {}
        },
        {
          "name": "stdout",
          "text": "Valid Phase - Loss: 0.9737, Accuracy: 0.7418, F1 Score: 0.7386\nEpoch 6/50\n",
          "output_type": "stream"
        },
        {
          "output_type": "display_data",
          "data": {
            "text/plain": "  0%|          | 0/590 [00:00<?, ?batch/s]",
            "application/vnd.jupyter.widget-view+json": {
              "version_major": 2,
              "version_minor": 0,
              "model_id": "ce9f878ce7bb4cb1802efacbfd6c076f"
            }
          },
          "metadata": {}
        },
        {
          "name": "stdout",
          "text": "Train Phase - Loss: 0.2437, Accuracy: 0.9310, F1 Score: 0.9301\n",
          "output_type": "stream"
        },
        {
          "output_type": "display_data",
          "data": {
            "text/plain": "  0%|          | 0/33 [00:00<?, ?batch/s]",
            "application/vnd.jupyter.widget-view+json": {
              "version_major": 2,
              "version_minor": 0,
              "model_id": "23844af210424d7fafafc3ac66d6eb23"
            }
          },
          "metadata": {}
        },
        {
          "name": "stdout",
          "text": "Valid Phase - Loss: 0.9158, Accuracy: 0.7633, F1 Score: 0.7637\nEpoch 7/50\n",
          "output_type": "stream"
        },
        {
          "output_type": "display_data",
          "data": {
            "text/plain": "  0%|          | 0/590 [00:00<?, ?batch/s]",
            "application/vnd.jupyter.widget-view+json": {
              "version_major": 2,
              "version_minor": 0,
              "model_id": "03ccf284021c47d4b4c720dc2de2a531"
            }
          },
          "metadata": {}
        },
        {
          "name": "stdout",
          "text": "Train Phase - Loss: 0.2210, Accuracy: 0.9362, F1 Score: 0.9355\n",
          "output_type": "stream"
        },
        {
          "output_type": "display_data",
          "data": {
            "text/plain": "  0%|          | 0/33 [00:00<?, ?batch/s]",
            "application/vnd.jupyter.widget-view+json": {
              "version_major": 2,
              "version_minor": 0,
              "model_id": "67d8c5d1e81d44a9828c1da0d1ad588f"
            }
          },
          "metadata": {}
        },
        {
          "name": "stdout",
          "text": "Valid Phase - Loss: 0.9121, Accuracy: 0.7655, F1 Score: 0.7672\nEpoch 8/50\n",
          "output_type": "stream"
        },
        {
          "output_type": "display_data",
          "data": {
            "text/plain": "  0%|          | 0/590 [00:00<?, ?batch/s]",
            "application/vnd.jupyter.widget-view+json": {
              "version_major": 2,
              "version_minor": 0,
              "model_id": "df4b123525d84b9b89e62070e0988143"
            }
          },
          "metadata": {}
        },
        {
          "name": "stdout",
          "text": "Train Phase - Loss: 0.2057, Accuracy: 0.9407, F1 Score: 0.9401\n",
          "output_type": "stream"
        },
        {
          "output_type": "display_data",
          "data": {
            "text/plain": "  0%|          | 0/33 [00:00<?, ?batch/s]",
            "application/vnd.jupyter.widget-view+json": {
              "version_major": 2,
              "version_minor": 0,
              "model_id": "0a12723ec9b44de0a0b00ba32e440343"
            }
          },
          "metadata": {}
        },
        {
          "name": "stdout",
          "text": "Valid Phase - Loss: 0.9174, Accuracy: 0.7755, F1 Score: 0.7760\nEpoch 9/50\n",
          "output_type": "stream"
        },
        {
          "output_type": "display_data",
          "data": {
            "text/plain": "  0%|          | 0/590 [00:00<?, ?batch/s]",
            "application/vnd.jupyter.widget-view+json": {
              "version_major": 2,
              "version_minor": 0,
              "model_id": "ae00211f990f42eaba229eb6640a239b"
            }
          },
          "metadata": {}
        },
        {
          "name": "stdout",
          "text": "Train Phase - Loss: 0.1840, Accuracy: 0.9460, F1 Score: 0.9454\n",
          "output_type": "stream"
        },
        {
          "output_type": "display_data",
          "data": {
            "text/plain": "  0%|          | 0/33 [00:00<?, ?batch/s]",
            "application/vnd.jupyter.widget-view+json": {
              "version_major": 2,
              "version_minor": 0,
              "model_id": "a8c942dbe2e34bb7b8a4d9edf7ac3571"
            }
          },
          "metadata": {}
        },
        {
          "name": "stdout",
          "text": "Valid Phase - Loss: 0.9381, Accuracy: 0.7776, F1 Score: 0.7754\nEpoch 10/50\n",
          "output_type": "stream"
        },
        {
          "output_type": "display_data",
          "data": {
            "text/plain": "  0%|          | 0/590 [00:00<?, ?batch/s]",
            "application/vnd.jupyter.widget-view+json": {
              "version_major": 2,
              "version_minor": 0,
              "model_id": "dcc705c4f481446f8fed8af5d3089b57"
            }
          },
          "metadata": {}
        },
        {
          "name": "stdout",
          "text": "Train Phase - Loss: 0.1711, Accuracy: 0.9501, F1 Score: 0.9497\n",
          "output_type": "stream"
        },
        {
          "output_type": "display_data",
          "data": {
            "text/plain": "  0%|          | 0/33 [00:00<?, ?batch/s]",
            "application/vnd.jupyter.widget-view+json": {
              "version_major": 2,
              "version_minor": 0,
              "model_id": "d744010dc00244bd9708a480b70b1188"
            }
          },
          "metadata": {}
        },
        {
          "name": "stdout",
          "text": "Valid Phase - Loss: 0.9227, Accuracy: 0.7807, F1 Score: 0.7798\nEpoch 11/50\n",
          "output_type": "stream"
        },
        {
          "output_type": "display_data",
          "data": {
            "text/plain": "  0%|          | 0/590 [00:00<?, ?batch/s]",
            "application/vnd.jupyter.widget-view+json": {
              "version_major": 2,
              "version_minor": 0,
              "model_id": "8fd8535000614773b449496e47ec872d"
            }
          },
          "metadata": {}
        },
        {
          "name": "stdout",
          "text": "Train Phase - Loss: 0.1214, Accuracy: 0.9661, F1 Score: 0.9658\n",
          "output_type": "stream"
        },
        {
          "output_type": "display_data",
          "data": {
            "text/plain": "  0%|          | 0/33 [00:00<?, ?batch/s]",
            "application/vnd.jupyter.widget-view+json": {
              "version_major": 2,
              "version_minor": 0,
              "model_id": "91bf039faba94546a9eef4946ef8a722"
            }
          },
          "metadata": {}
        },
        {
          "name": "stdout",
          "text": "Valid Phase - Loss: 0.8066, Accuracy: 0.8159, F1 Score: 0.8144\nEpoch 12/50\n",
          "output_type": "stream"
        },
        {
          "output_type": "display_data",
          "data": {
            "text/plain": "  0%|          | 0/590 [00:00<?, ?batch/s]",
            "application/vnd.jupyter.widget-view+json": {
              "version_major": 2,
              "version_minor": 0,
              "model_id": "c84d241a06c94019821c05c84a72696d"
            }
          },
          "metadata": {}
        },
        {
          "name": "stdout",
          "text": "Train Phase - Loss: 0.1118, Accuracy: 0.9695, F1 Score: 0.9693\n",
          "output_type": "stream"
        },
        {
          "output_type": "display_data",
          "data": {
            "text/plain": "  0%|          | 0/33 [00:00<?, ?batch/s]",
            "application/vnd.jupyter.widget-view+json": {
              "version_major": 2,
              "version_minor": 0,
              "model_id": "99d03be867db44d39094a84aa093a387"
            }
          },
          "metadata": {}
        },
        {
          "name": "stdout",
          "text": "Valid Phase - Loss: 0.8026, Accuracy: 0.8156, F1 Score: 0.8143\nEpoch 13/50\n",
          "output_type": "stream"
        },
        {
          "output_type": "display_data",
          "data": {
            "text/plain": "  0%|          | 0/590 [00:00<?, ?batch/s]",
            "application/vnd.jupyter.widget-view+json": {
              "version_major": 2,
              "version_minor": 0,
              "model_id": "64657548becb44bd96508971b4bb355c"
            }
          },
          "metadata": {}
        },
        {
          "name": "stdout",
          "text": "Train Phase - Loss: 0.1082, Accuracy: 0.9702, F1 Score: 0.9700\n",
          "output_type": "stream"
        },
        {
          "output_type": "display_data",
          "data": {
            "text/plain": "  0%|          | 0/33 [00:00<?, ?batch/s]",
            "application/vnd.jupyter.widget-view+json": {
              "version_major": 2,
              "version_minor": 0,
              "model_id": "b4cba9bc6e594cfca9567e3e9a8fb864"
            }
          },
          "metadata": {}
        },
        {
          "name": "stdout",
          "text": "Valid Phase - Loss: 0.7999, Accuracy: 0.8182, F1 Score: 0.8164\nEpoch 14/50\n",
          "output_type": "stream"
        },
        {
          "output_type": "display_data",
          "data": {
            "text/plain": "  0%|          | 0/590 [00:00<?, ?batch/s]",
            "application/vnd.jupyter.widget-view+json": {
              "version_major": 2,
              "version_minor": 0,
              "model_id": "2206ad659c014aa5bab6ce154e8b811d"
            }
          },
          "metadata": {}
        },
        {
          "name": "stdout",
          "text": "Train Phase - Loss: 0.1067, Accuracy: 0.9698, F1 Score: 0.9696\n",
          "output_type": "stream"
        },
        {
          "output_type": "display_data",
          "data": {
            "text/plain": "  0%|          | 0/33 [00:00<?, ?batch/s]",
            "application/vnd.jupyter.widget-view+json": {
              "version_major": 2,
              "version_minor": 0,
              "model_id": "0120bc30eca9426d96bd2ae9b8b5326b"
            }
          },
          "metadata": {}
        },
        {
          "name": "stdout",
          "text": "Valid Phase - Loss: 0.8078, Accuracy: 0.8204, F1 Score: 0.8186\nEpoch 15/50\n",
          "output_type": "stream"
        },
        {
          "output_type": "display_data",
          "data": {
            "text/plain": "  0%|          | 0/590 [00:00<?, ?batch/s]",
            "application/vnd.jupyter.widget-view+json": {
              "version_major": 2,
              "version_minor": 0,
              "model_id": "a4404bab25bf4c28a378f20c39c79710"
            }
          },
          "metadata": {}
        },
        {
          "name": "stdout",
          "text": "Train Phase - Loss: 0.1040, Accuracy: 0.9713, F1 Score: 0.9711\n",
          "output_type": "stream"
        },
        {
          "output_type": "display_data",
          "data": {
            "text/plain": "  0%|          | 0/33 [00:00<?, ?batch/s]",
            "application/vnd.jupyter.widget-view+json": {
              "version_major": 2,
              "version_minor": 0,
              "model_id": "1735cf1c75ae4554bf8927512896b9e9"
            }
          },
          "metadata": {}
        },
        {
          "name": "stdout",
          "text": "Valid Phase - Loss: 0.8027, Accuracy: 0.8204, F1 Score: 0.8186\nEpoch 16/50\n",
          "output_type": "stream"
        },
        {
          "output_type": "display_data",
          "data": {
            "text/plain": "  0%|          | 0/590 [00:00<?, ?batch/s]",
            "application/vnd.jupyter.widget-view+json": {
              "version_major": 2,
              "version_minor": 0,
              "model_id": "d6714bd35e294cb69aaa387f72cea23d"
            }
          },
          "metadata": {}
        },
        {
          "name": "stdout",
          "text": "Train Phase - Loss: 0.1028, Accuracy: 0.9717, F1 Score: 0.9715\n",
          "output_type": "stream"
        },
        {
          "output_type": "display_data",
          "data": {
            "text/plain": "  0%|          | 0/33 [00:00<?, ?batch/s]",
            "application/vnd.jupyter.widget-view+json": {
              "version_major": 2,
              "version_minor": 0,
              "model_id": "8578256df8ab4796a21c819c98dfcb2f"
            }
          },
          "metadata": {}
        },
        {
          "name": "stdout",
          "text": "Valid Phase - Loss: 0.8119, Accuracy: 0.8154, F1 Score: 0.8133\nEpoch 17/50\n",
          "output_type": "stream"
        },
        {
          "output_type": "display_data",
          "data": {
            "text/plain": "  0%|          | 0/590 [00:00<?, ?batch/s]",
            "application/vnd.jupyter.widget-view+json": {
              "version_major": 2,
              "version_minor": 0,
              "model_id": "81fc06e76695419bb158d11013370b6d"
            }
          },
          "metadata": {}
        },
        {
          "name": "stdout",
          "text": "Train Phase - Loss: 0.0968, Accuracy: 0.9733, F1 Score: 0.9731\n",
          "output_type": "stream"
        },
        {
          "output_type": "display_data",
          "data": {
            "text/plain": "  0%|          | 0/33 [00:00<?, ?batch/s]",
            "application/vnd.jupyter.widget-view+json": {
              "version_major": 2,
              "version_minor": 0,
              "model_id": "f73a7f5e867b4e219438ec792ea760a1"
            }
          },
          "metadata": {}
        },
        {
          "name": "stdout",
          "text": "Valid Phase - Loss: 0.8057, Accuracy: 0.8214, F1 Score: 0.8200\nEpoch 18/50\n",
          "output_type": "stream"
        },
        {
          "output_type": "display_data",
          "data": {
            "text/plain": "  0%|          | 0/590 [00:00<?, ?batch/s]",
            "application/vnd.jupyter.widget-view+json": {
              "version_major": 2,
              "version_minor": 0,
              "model_id": "9cb04d0fe9c74fafaf4873e6d9cca79a"
            }
          },
          "metadata": {}
        },
        {
          "name": "stdout",
          "text": "Train Phase - Loss: 0.0952, Accuracy: 0.9734, F1 Score: 0.9733\n",
          "output_type": "stream"
        },
        {
          "output_type": "display_data",
          "data": {
            "text/plain": "  0%|          | 0/33 [00:00<?, ?batch/s]",
            "application/vnd.jupyter.widget-view+json": {
              "version_major": 2,
              "version_minor": 0,
              "model_id": "85620276245d4995986b7925bf6a9a66"
            }
          },
          "metadata": {}
        },
        {
          "name": "stdout",
          "text": "Valid Phase - Loss: 0.8085, Accuracy: 0.8206, F1 Score: 0.8193\nEpoch 19/50\n",
          "output_type": "stream"
        },
        {
          "output_type": "display_data",
          "data": {
            "text/plain": "  0%|          | 0/590 [00:00<?, ?batch/s]",
            "application/vnd.jupyter.widget-view+json": {
              "version_major": 2,
              "version_minor": 0,
              "model_id": "67f6b00b7bff419c8adfd11d8b1798a2"
            }
          },
          "metadata": {}
        },
        {
          "name": "stdout",
          "text": "Train Phase - Loss: 0.0940, Accuracy: 0.9743, F1 Score: 0.9742\n",
          "output_type": "stream"
        },
        {
          "output_type": "display_data",
          "data": {
            "text/plain": "  0%|          | 0/33 [00:00<?, ?batch/s]",
            "application/vnd.jupyter.widget-view+json": {
              "version_major": 2,
              "version_minor": 0,
              "model_id": "17bba82944184c7e96302059d8985127"
            }
          },
          "metadata": {}
        },
        {
          "name": "stdout",
          "text": "Valid Phase - Loss: 0.7947, Accuracy: 0.8264, F1 Score: 0.8247\nEpoch 20/50\n",
          "output_type": "stream"
        },
        {
          "output_type": "display_data",
          "data": {
            "text/plain": "  0%|          | 0/590 [00:00<?, ?batch/s]",
            "application/vnd.jupyter.widget-view+json": {
              "version_major": 2,
              "version_minor": 0,
              "model_id": "5c1b8d7166c84fb983760d3823ede2a1"
            }
          },
          "metadata": {}
        },
        {
          "name": "stdout",
          "text": "Train Phase - Loss: 0.0916, Accuracy: 0.9751, F1 Score: 0.9750\n",
          "output_type": "stream"
        },
        {
          "output_type": "display_data",
          "data": {
            "text/plain": "  0%|          | 0/33 [00:00<?, ?batch/s]",
            "application/vnd.jupyter.widget-view+json": {
              "version_major": 2,
              "version_minor": 0,
              "model_id": "19978b3562bc4184956818b8a574da34"
            }
          },
          "metadata": {}
        },
        {
          "name": "stdout",
          "text": "Valid Phase - Loss: 0.8059, Accuracy: 0.8240, F1 Score: 0.8224\nEpoch 21/50\n",
          "output_type": "stream"
        },
        {
          "output_type": "display_data",
          "data": {
            "text/plain": "  0%|          | 0/590 [00:00<?, ?batch/s]",
            "application/vnd.jupyter.widget-view+json": {
              "version_major": 2,
              "version_minor": 0,
              "model_id": "c78f498f3ae64f209a9f7a8ca7104724"
            }
          },
          "metadata": {}
        },
        {
          "name": "stdout",
          "text": "Train Phase - Loss: 0.0884, Accuracy: 0.9760, F1 Score: 0.9759\n",
          "output_type": "stream"
        },
        {
          "output_type": "display_data",
          "data": {
            "text/plain": "  0%|          | 0/33 [00:00<?, ?batch/s]",
            "application/vnd.jupyter.widget-view+json": {
              "version_major": 2,
              "version_minor": 0,
              "model_id": "d8e7dd0148f747d0a613c2f593d17bff"
            }
          },
          "metadata": {}
        },
        {
          "name": "stdout",
          "text": "Valid Phase - Loss: 0.8013, Accuracy: 0.8257, F1 Score: 0.8238\nEpoch 22/50\n",
          "output_type": "stream"
        },
        {
          "output_type": "display_data",
          "data": {
            "text/plain": "  0%|          | 0/590 [00:00<?, ?batch/s]",
            "application/vnd.jupyter.widget-view+json": {
              "version_major": 2,
              "version_minor": 0,
              "model_id": "9fe108aeb29543d88f7852755f17aa41"
            }
          },
          "metadata": {}
        },
        {
          "name": "stdout",
          "text": "Train Phase - Loss: 0.0865, Accuracy: 0.9769, F1 Score: 0.9768\n",
          "output_type": "stream"
        },
        {
          "output_type": "display_data",
          "data": {
            "text/plain": "  0%|          | 0/33 [00:00<?, ?batch/s]",
            "application/vnd.jupyter.widget-view+json": {
              "version_major": 2,
              "version_minor": 0,
              "model_id": "33e49fa87051495c9129c3bd4b381c41"
            }
          },
          "metadata": {}
        },
        {
          "name": "stdout",
          "text": "Valid Phase - Loss: 0.7981, Accuracy: 0.8276, F1 Score: 0.8260\nEpoch 23/50\n",
          "output_type": "stream"
        },
        {
          "output_type": "display_data",
          "data": {
            "text/plain": "  0%|          | 0/590 [00:00<?, ?batch/s]",
            "application/vnd.jupyter.widget-view+json": {
              "version_major": 2,
              "version_minor": 0,
              "model_id": "d2a511bcfdd04d55b56c15ea984e6958"
            }
          },
          "metadata": {}
        },
        {
          "name": "stdout",
          "text": "Train Phase - Loss: 0.0863, Accuracy: 0.9765, F1 Score: 0.9764\n",
          "output_type": "stream"
        },
        {
          "output_type": "display_data",
          "data": {
            "text/plain": "  0%|          | 0/33 [00:00<?, ?batch/s]",
            "application/vnd.jupyter.widget-view+json": {
              "version_major": 2,
              "version_minor": 0,
              "model_id": "073073fc95194ba3bfa24d5117501ac5"
            }
          },
          "metadata": {}
        },
        {
          "name": "stdout",
          "text": "Valid Phase - Loss: 0.8001, Accuracy: 0.8254, F1 Score: 0.8238\nEpoch 24/50\n",
          "output_type": "stream"
        },
        {
          "output_type": "display_data",
          "data": {
            "text/plain": "  0%|          | 0/590 [00:00<?, ?batch/s]",
            "application/vnd.jupyter.widget-view+json": {
              "version_major": 2,
              "version_minor": 0,
              "model_id": "38d649d62957480dac5c23b12b244108"
            }
          },
          "metadata": {}
        },
        {
          "name": "stdout",
          "text": "Train Phase - Loss: 0.0874, Accuracy: 0.9760, F1 Score: 0.9759\n",
          "output_type": "stream"
        },
        {
          "output_type": "display_data",
          "data": {
            "text/plain": "  0%|          | 0/33 [00:00<?, ?batch/s]",
            "application/vnd.jupyter.widget-view+json": {
              "version_major": 2,
              "version_minor": 0,
              "model_id": "192ef86526384ee29084e6dfef981d9f"
            }
          },
          "metadata": {}
        },
        {
          "name": "stdout",
          "text": "Valid Phase - Loss: 0.7985, Accuracy: 0.8273, F1 Score: 0.8257\nEpoch 25/50\n",
          "output_type": "stream"
        },
        {
          "output_type": "display_data",
          "data": {
            "text/plain": "  0%|          | 0/590 [00:00<?, ?batch/s]",
            "application/vnd.jupyter.widget-view+json": {
              "version_major": 2,
              "version_minor": 0,
              "model_id": "12b7400ab34f402ea7960fcd1dc0a59e"
            }
          },
          "metadata": {}
        },
        {
          "name": "stdout",
          "text": "Train Phase - Loss: 0.0855, Accuracy: 0.9769, F1 Score: 0.9768\n",
          "output_type": "stream"
        },
        {
          "output_type": "display_data",
          "data": {
            "text/plain": "  0%|          | 0/33 [00:00<?, ?batch/s]",
            "application/vnd.jupyter.widget-view+json": {
              "version_major": 2,
              "version_minor": 0,
              "model_id": "1d43efbd1733473687d4788f127d4751"
            }
          },
          "metadata": {}
        },
        {
          "name": "stdout",
          "text": "Valid Phase - Loss: 0.7984, Accuracy: 0.8276, F1 Score: 0.8260\nEpoch 26/50\n",
          "output_type": "stream"
        },
        {
          "output_type": "display_data",
          "data": {
            "text/plain": "  0%|          | 0/590 [00:00<?, ?batch/s]",
            "application/vnd.jupyter.widget-view+json": {
              "version_major": 2,
              "version_minor": 0,
              "model_id": "c655f1fcfc094227aad80ac06b54a0a7"
            }
          },
          "metadata": {}
        },
        {
          "name": "stdout",
          "text": "Train Phase - Loss: 0.0853, Accuracy: 0.9768, F1 Score: 0.9767\n",
          "output_type": "stream"
        },
        {
          "output_type": "display_data",
          "data": {
            "text/plain": "  0%|          | 0/33 [00:00<?, ?batch/s]",
            "application/vnd.jupyter.widget-view+json": {
              "version_major": 2,
              "version_minor": 0,
              "model_id": "ac4e8e4db82046d8867c6a1c6fdb43fb"
            }
          },
          "metadata": {}
        },
        {
          "name": "stdout",
          "text": "Valid Phase - Loss: 0.8003, Accuracy: 0.8264, F1 Score: 0.8244\nEpoch 27/50\n",
          "output_type": "stream"
        },
        {
          "output_type": "display_data",
          "data": {
            "text/plain": "  0%|          | 0/590 [00:00<?, ?batch/s]",
            "application/vnd.jupyter.widget-view+json": {
              "version_major": 2,
              "version_minor": 0,
              "model_id": "3716de69e2f74e309f0b07d19da2ca96"
            }
          },
          "metadata": {}
        },
        {
          "name": "stdout",
          "text": "Train Phase - Loss: 0.0850, Accuracy: 0.9766, F1 Score: 0.9765\n",
          "output_type": "stream"
        },
        {
          "output_type": "display_data",
          "data": {
            "text/plain": "  0%|          | 0/33 [00:00<?, ?batch/s]",
            "application/vnd.jupyter.widget-view+json": {
              "version_major": 2,
              "version_minor": 0,
              "model_id": "2df4ac895a79429fb0f3ba7711f37822"
            }
          },
          "metadata": {}
        },
        {
          "name": "stdout",
          "text": "Valid Phase - Loss: 0.8013, Accuracy: 0.8273, F1 Score: 0.8257\nEarly stopping!\n",
          "output_type": "stream"
        },
        {
          "execution_count": 98,
          "output_type": "execute_result",
          "data": {
            "text/plain": "{'train': {'accuracy': [0.8590640485465193,\n   0.8833373082120995,\n   0.9003365397355381,\n   0.9119829345204972,\n   0.9219466306277658,\n   0.9310226038105838,\n   0.93624294459019,\n   0.9407345575959933,\n   0.9459548983755995,\n   0.950128521080107,\n   0.9660545353366722,\n   0.9695391790550388,\n   0.9702149084452925,\n   0.9698174205686727,\n   0.9712748761162785,\n   0.9716591143970109,\n   0.9732623154993773,\n   0.9734213106500251,\n   0.9743222831703633,\n   0.9750775101359409,\n   0.9760447306357156,\n   0.9769324535601664,\n   0.976508466491772,\n   0.9760049818480536,\n   0.9768529559848425,\n   0.9768132071971805,\n   0.9766409624506452],\n  'f1': [0.8557744460449132,\n   0.8810222568524411,\n   0.8986125584727558,\n   0.91051330603769,\n   0.9207504329143965,\n   0.9301061706760998,\n   0.9355039738933723,\n   0.9401063269670501,\n   0.9454318447197486,\n   0.949664606538917,\n   0.9657920013103425,\n   0.9693290757550305,\n   0.9700241921752358,\n   0.9696381032128565,\n   0.9710962193935576,\n   0.9715033714116879,\n   0.9731081428106108,\n   0.9732852430148841,\n   0.9741671547580306,\n   0.9749620862768071,\n   0.9759300213600016,\n   0.9768139758849333,\n   0.9763940878880585,\n   0.9758856624480594,\n   0.9767578444689142,\n   0.9767035653914299,\n   0.9765083417430459],\n  'loss': [0.5181378312167066,\n   0.42577862557133633,\n   0.36083340803573655,\n   0.31206650475798375,\n   0.27872205964947877,\n   0.24374133039717108,\n   0.2210057263307264,\n   0.2057122441594228,\n   0.18395960198168781,\n   0.17112287080802527,\n   0.12140134096542078,\n   0.11181112899252918,\n   0.10823905944080287,\n   0.10674591957464548,\n   0.10399544527436565,\n   0.10277563133510342,\n   0.09677138968784504,\n   0.09516693874698036,\n   0.09403416006595483,\n   0.09158260183453822,\n   0.08836329672017176,\n   0.0864635317756378,\n   0.08628906727415246,\n   0.08744675299517443,\n   0.08546469501360683,\n   0.08526532408930487,\n   0.0849503598015256]},\n 'valid': {'accuracy': [0.690470503940769,\n   0.7067112491043707,\n   0.739909242894674,\n   0.7494626224026749,\n   0.7418199187962742,\n   0.7633150226892763,\n   0.7654645330785765,\n   0.7754955815619775,\n   0.7776450919512777,\n   0.7807499402913781,\n   0.8158586099832816,\n   0.8156197754955815,\n   0.8182469548602819,\n   0.820396465249582,\n   0.820396465249582,\n   0.8153809410078815,\n   0.8213518032003821,\n   0.8206352997372821,\n   0.8263673274420826,\n   0.8239789825650824,\n   0.8256508239789826,\n   0.8275614998805828,\n   0.8254119894912826,\n   0.8273226653928827,\n   0.8275614998805828,\n   0.8263673274420826,\n   0.8273226653928827],\n  'f1': [0.6913071087094088,\n   0.7112962063007482,\n   0.7412941661121812,\n   0.7514338024107281,\n   0.7385700853973804,\n   0.7636541909008245,\n   0.767231294955075,\n   0.7760142292649297,\n   0.7753995137278834,\n   0.7797665025616333,\n   0.8143787994786932,\n   0.8142929148617031,\n   0.8164265562733536,\n   0.8185905870378201,\n   0.8185727581831949,\n   0.8133365312174566,\n   0.8199583959624068,\n   0.8192639588739726,\n   0.8247448144403873,\n   0.8224270057565658,\n   0.8238482067966363,\n   0.82604814593042,\n   0.8238212522843509,\n   0.8257021173256603,\n   0.8259775898154056,\n   0.8243963734707053,\n   0.8257101277540618],\n  'loss': [1.1119970253495006,\n   1.062868264201492,\n   0.9607368803035681,\n   0.9334809490567835,\n   0.9737181284702675,\n   0.9157515448205136,\n   0.9120738215055846,\n   0.9173748793566685,\n   0.9381495351890462,\n   0.9226765606293451,\n   0.8065533609956268,\n   0.8026080969725528,\n   0.7999197484799493,\n   0.807764910230894,\n   0.8027172489214092,\n   0.8119147893264694,\n   0.8056767279674137,\n   0.8084536562650392,\n   0.7947445171158952,\n   0.8059488771096716,\n   0.8012963320436243,\n   0.7980725428270559,\n   0.8001296196372235,\n   0.7984873353936719,\n   0.7983728323940562,\n   0.800336200360441,\n   0.8013095769444883]}}"
          },
          "metadata": {}
        }
      ]
    },
    {
      "cell_type": "markdown",
      "source": [
        "# Submit"
      ],
      "metadata": {
        "id": "pQpMOoLyFzib"
      }
    },
    {
      "cell_type": "code",
      "source": [
        "data = pd.read_csv(r'../input/journey-springfield/sample_submission.csv')\n",
        "data.head()"
      ],
      "metadata": {
        "execution": {
          "iopub.status.busy": "2024-11-07T19:05:25.472068Z",
          "iopub.execute_input": "2024-11-07T19:05:25.472623Z",
          "iopub.status.idle": "2024-11-07T19:05:25.503336Z",
          "shell.execute_reply.started": "2024-11-07T19:05:25.472568Z",
          "shell.execute_reply": "2024-11-07T19:05:25.502498Z"
        },
        "trusted": true,
        "id": "lDhX8DeiFzib",
        "outputId": "e2d0a1d1-b1c3-495f-f7d4-1ed8310e39b7"
      },
      "execution_count": null,
      "outputs": [
        {
          "execution_count": 107,
          "output_type": "execute_result",
          "data": {
            "text/plain": "         Id      Expected\n0  img0.jpg  bart_simpson\n1  img1.jpg  bart_simpson\n2  img2.jpg  bart_simpson\n3  img3.jpg  bart_simpson\n4  img4.jpg  bart_simpson",
            "text/html": "<div>\n<style scoped>\n    .dataframe tbody tr th:only-of-type {\n        vertical-align: middle;\n    }\n\n    .dataframe tbody tr th {\n        vertical-align: top;\n    }\n\n    .dataframe thead th {\n        text-align: right;\n    }\n</style>\n<table border=\"1\" class=\"dataframe\">\n  <thead>\n    <tr style=\"text-align: right;\">\n      <th></th>\n      <th>Id</th>\n      <th>Expected</th>\n    </tr>\n  </thead>\n  <tbody>\n    <tr>\n      <th>0</th>\n      <td>img0.jpg</td>\n      <td>bart_simpson</td>\n    </tr>\n    <tr>\n      <th>1</th>\n      <td>img1.jpg</td>\n      <td>bart_simpson</td>\n    </tr>\n    <tr>\n      <th>2</th>\n      <td>img2.jpg</td>\n      <td>bart_simpson</td>\n    </tr>\n    <tr>\n      <th>3</th>\n      <td>img3.jpg</td>\n      <td>bart_simpson</td>\n    </tr>\n    <tr>\n      <th>4</th>\n      <td>img4.jpg</td>\n      <td>bart_simpson</td>\n    </tr>\n  </tbody>\n</table>\n</div>"
          },
          "metadata": {}
        }
      ]
    },
    {
      "cell_type": "code",
      "source": [
        "class TestDataset(Dataset):\n",
        "    def __init__(self, file_list, transform=None):\n",
        "        self.file_list = file_list\n",
        "        self.transform = transform\n",
        "\n",
        "    def __len__(self):\n",
        "        return len(self.file_list)\n",
        "\n",
        "    def __getitem__(self, idx):\n",
        "        img_path = self.file_list[idx]\n",
        "        image = Image.open(img_path).convert('RGB')\n",
        "        if self.transform:\n",
        "            image = self.transform(image)\n",
        "        return image, img_path.name"
      ],
      "metadata": {
        "execution": {
          "iopub.status.busy": "2024-11-07T19:07:43.231827Z",
          "iopub.execute_input": "2024-11-07T19:07:43.232561Z",
          "iopub.status.idle": "2024-11-07T19:07:43.239156Z",
          "shell.execute_reply.started": "2024-11-07T19:07:43.232518Z",
          "shell.execute_reply": "2024-11-07T19:07:43.238085Z"
        },
        "trusted": true,
        "id": "MFLUoT0nFzib"
      },
      "execution_count": null,
      "outputs": []
    },
    {
      "cell_type": "code",
      "source": [
        "test_transforms = transforms.Compose([\n",
        "    transforms.Resize(size=(224, 224)),\n",
        "    transforms.ToTensor(),\n",
        "    transforms.Normalize([0.485, 0.456, 0.406], [0.229, 0.224, 0.225]),\n",
        "])"
      ],
      "metadata": {
        "execution": {
          "iopub.status.busy": "2024-11-07T19:08:20.085000Z",
          "iopub.execute_input": "2024-11-07T19:08:20.085452Z",
          "iopub.status.idle": "2024-11-07T19:08:20.091853Z",
          "shell.execute_reply.started": "2024-11-07T19:08:20.085410Z",
          "shell.execute_reply": "2024-11-07T19:08:20.090701Z"
        },
        "trusted": true,
        "id": "nQe1517pFzib"
      },
      "execution_count": null,
      "outputs": []
    },
    {
      "cell_type": "code",
      "source": [
        "test_dataset = TestDataset(test_files, transform=test_transforms)\n",
        "test_loader = DataLoader(test_dataset, batch_size=128, num_workers=4)"
      ],
      "metadata": {
        "execution": {
          "iopub.status.busy": "2024-11-07T19:08:23.751232Z",
          "iopub.execute_input": "2024-11-07T19:08:23.751670Z",
          "iopub.status.idle": "2024-11-07T19:08:23.757857Z",
          "shell.execute_reply.started": "2024-11-07T19:08:23.751628Z",
          "shell.execute_reply": "2024-11-07T19:08:23.756649Z"
        },
        "trusted": true,
        "id": "ZGwI6Jo5Fzib"
      },
      "execution_count": null,
      "outputs": []
    },
    {
      "cell_type": "code",
      "source": [
        "model.to(device)\n",
        "model.eval()"
      ],
      "metadata": {
        "execution": {
          "iopub.status.busy": "2024-11-07T19:08:33.371479Z",
          "iopub.execute_input": "2024-11-07T19:08:33.372535Z",
          "iopub.status.idle": "2024-11-07T19:08:33.381718Z",
          "shell.execute_reply.started": "2024-11-07T19:08:33.372480Z",
          "shell.execute_reply": "2024-11-07T19:08:33.380699Z"
        },
        "trusted": true,
        "id": "CWMR0cXlFzib",
        "outputId": "13da9921-09c1-4a51-98ae-5336b9aef604"
      },
      "execution_count": null,
      "outputs": [
        {
          "execution_count": 112,
          "output_type": "execute_result",
          "data": {
            "text/plain": "SimpsonClassifier(\n  (conv1): Sequential(\n    (0): Conv2d(3, 11, kernel_size=(3, 3), stride=(1, 1))\n    (1): BatchNorm2d(11, eps=1e-05, momentum=0.1, affine=True, track_running_stats=True)\n    (2): ReLU()\n    (3): MaxPool2d(kernel_size=2, stride=2, padding=0, dilation=1, ceil_mode=False)\n  )\n  (conv2): Sequential(\n    (0): Conv2d(11, 15, kernel_size=(3, 3), stride=(1, 1))\n    (1): BatchNorm2d(15, eps=1e-05, momentum=0.1, affine=True, track_running_stats=True)\n    (2): ReLU()\n    (3): MaxPool2d(kernel_size=2, stride=2, padding=0, dilation=1, ceil_mode=False)\n  )\n  (conv3): Sequential(\n    (0): Conv2d(15, 32, kernel_size=(3, 3), stride=(1, 1))\n    (1): BatchNorm2d(32, eps=1e-05, momentum=0.1, affine=True, track_running_stats=True)\n    (2): ReLU()\n    (3): MaxPool2d(kernel_size=2, stride=2, padding=0, dilation=1, ceil_mode=False)\n  )\n  (conv4): Sequential(\n    (0): Conv2d(32, 10, kernel_size=(3, 3), stride=(1, 1))\n    (1): BatchNorm2d(10, eps=1e-05, momentum=0.1, affine=True, track_running_stats=True)\n    (2): ReLU()\n    (3): MaxPool2d(kernel_size=2, stride=2, padding=0, dilation=1, ceil_mode=False)\n  )\n  (flatten): Flatten(start_dim=1, end_dim=-1)\n  (fc1): Linear(in_features=1440, out_features=512, bias=True)\n  (fc2): Linear(in_features=512, out_features=128, bias=True)\n  (fc3): Linear(in_features=128, out_features=42, bias=True)\n  (relu): ReLU()\n)"
          },
          "metadata": {}
        }
      ]
    },
    {
      "cell_type": "code",
      "source": [
        "class_to_idx = train_dataset.dataset.class_to_idx\n",
        "idx_to_class = {v: k for k, v in class_to_idx.items()}\n",
        "\n",
        "predictions = []\n",
        "\n",
        "with torch.no_grad():\n",
        "    for images, image_names in tqdm(test_loader, desc='Predicting'):\n",
        "        images = images.to(device)\n",
        "        outputs = model(images)\n",
        "        _, preds = torch.max(outputs, 1)\n",
        "        preds = preds.cpu().numpy()\n",
        "        for img_name, pred in zip(image_names, preds):\n",
        "            label = idx_to_class[pred]\n",
        "            predictions.append({'image_name': img_name, 'label': label})"
      ],
      "metadata": {
        "execution": {
          "iopub.status.busy": "2024-11-07T19:09:07.162209Z",
          "iopub.execute_input": "2024-11-07T19:09:07.162641Z",
          "iopub.status.idle": "2024-11-07T19:09:10.104357Z",
          "shell.execute_reply.started": "2024-11-07T19:09:07.162600Z",
          "shell.execute_reply": "2024-11-07T19:09:10.103210Z"
        },
        "trusted": true,
        "colab": {
          "referenced_widgets": [
            "7edc3783f27c49a0948e6475952ad2d8"
          ]
        },
        "id": "4e3wl37OFzib",
        "outputId": "6bda4f9a-af75-4f35-acdb-cdd0aa94deae"
      },
      "execution_count": null,
      "outputs": [
        {
          "output_type": "display_data",
          "data": {
            "text/plain": "Predicting:   0%|          | 0/8 [00:00<?, ?it/s]",
            "application/vnd.jupyter.widget-view+json": {
              "version_major": 2,
              "version_minor": 0,
              "model_id": "7edc3783f27c49a0948e6475952ad2d8"
            }
          },
          "metadata": {}
        }
      ]
    },
    {
      "cell_type": "code",
      "source": [
        "submission = pd.DataFrame(predictions)\n",
        "submission = submission[['image_name', 'label']]\n",
        "submission = submission.sort_values(by='image_name').reset_index(drop=True)\n",
        "submission.to_csv('submission.csv', index=False)"
      ],
      "metadata": {
        "execution": {
          "iopub.status.busy": "2024-11-07T19:09:51.194563Z",
          "iopub.execute_input": "2024-11-07T19:09:51.195033Z",
          "iopub.status.idle": "2024-11-07T19:09:51.222631Z",
          "shell.execute_reply.started": "2024-11-07T19:09:51.194986Z",
          "shell.execute_reply": "2024-11-07T19:09:51.221651Z"
        },
        "trusted": true,
        "id": "cRiWwjOsFzib"
      },
      "execution_count": null,
      "outputs": []
    },
    {
      "cell_type": "code",
      "source": [
        "submission.head()"
      ],
      "metadata": {
        "execution": {
          "iopub.status.busy": "2024-11-07T19:09:59.397477Z",
          "iopub.execute_input": "2024-11-07T19:09:59.397909Z",
          "iopub.status.idle": "2024-11-07T19:09:59.411307Z",
          "shell.execute_reply.started": "2024-11-07T19:09:59.397870Z",
          "shell.execute_reply": "2024-11-07T19:09:59.409969Z"
        },
        "trusted": true,
        "id": "Exg-i17dFzic",
        "outputId": "0de2c0e9-9658-474b-80f1-2dd50ebbab8b"
      },
      "execution_count": null,
      "outputs": [
        {
          "execution_count": 115,
          "output_type": "execute_result",
          "data": {
            "text/plain": "   image_name                   label\n0    img0.jpg            nelson_muntz\n1    img1.jpg            bart_simpson\n2   img10.jpg            ned_flanders\n3  img100.jpg            chief_wiggum\n4  img101.jpg  apu_nahasapeemapetilon",
            "text/html": "<div>\n<style scoped>\n    .dataframe tbody tr th:only-of-type {\n        vertical-align: middle;\n    }\n\n    .dataframe tbody tr th {\n        vertical-align: top;\n    }\n\n    .dataframe thead th {\n        text-align: right;\n    }\n</style>\n<table border=\"1\" class=\"dataframe\">\n  <thead>\n    <tr style=\"text-align: right;\">\n      <th></th>\n      <th>image_name</th>\n      <th>label</th>\n    </tr>\n  </thead>\n  <tbody>\n    <tr>\n      <th>0</th>\n      <td>img0.jpg</td>\n      <td>nelson_muntz</td>\n    </tr>\n    <tr>\n      <th>1</th>\n      <td>img1.jpg</td>\n      <td>bart_simpson</td>\n    </tr>\n    <tr>\n      <th>2</th>\n      <td>img10.jpg</td>\n      <td>ned_flanders</td>\n    </tr>\n    <tr>\n      <th>3</th>\n      <td>img100.jpg</td>\n      <td>chief_wiggum</td>\n    </tr>\n    <tr>\n      <th>4</th>\n      <td>img101.jpg</td>\n      <td>apu_nahasapeemapetilon</td>\n    </tr>\n  </tbody>\n</table>\n</div>"
          },
          "metadata": {}
        }
      ]
    },
    {
      "cell_type": "markdown",
      "source": [
        "![image.png](data:image/png;base64,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)"
      ],
      "metadata": {
        "id": "X5ZLjXBUF2MX"
      }
    }
  ]
}